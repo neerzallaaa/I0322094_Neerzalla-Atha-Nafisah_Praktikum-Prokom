{
 "cells": [
  {
   "cell_type": "code",
   "execution_count": null,
   "metadata": {},
   "outputs": [],
   "source": [
    "print(input(\"Nama: \"))\n",
    "print(input(\"NIM: \"))\n",
    "print(input(\"Kelas: \"))"
   ]
  },
  {
   "attachments": {},
   "cell_type": "markdown",
   "metadata": {},
   "source": [
    "## 1."
   ]
  },
  {
   "attachments": {},
   "cell_type": "markdown",
   "metadata": {},
   "source": [
    "buatlah program sederhana untuk:\n",
    "* **A** mencari massa jika diketahui nilai energi potensial, percepatan gravitasi, dan ketinggian benda! beserta rumus nya!\n",
    "* **B** mencari gaya apung jika diketahui massa jenis, tinggi, panjang, dan lebar benda serta percepatan gravitasi dan contohnya! beserta rumus nya!\n",
    "* **C** Tulis program Python untuk menghitung luas dari segi lima sama sisi!\n",
    "\n",
    "> *note* : rumus, contoh, dan nilai dari tiap variabel ditentukan oleh kalian sendiri dan gunakan satuan baku (SI) untuk menghitung nilai dari tiap variabel"
   ]
  },
  {
   "cell_type": "code",
   "execution_count": null,
   "metadata": {},
   "outputs": [],
   "source": [
    "#A\n",
    "EnergiPotensial = float(input(\"Masukkan Nilai Energi Potensial = \"))\n",
    "PercepatanGravitasi = float(input(\"Masukkan Nilai Percepatan Gravitasi = \"))\n",
    "Ketinggian = float(input(\"Masukkan Nilai Ketinggian Benda = \"))\n",
    "\n",
    "Massa = EnergiPotensial/(PercepatanGravitasi*Ketinggian)\n",
    "\n",
    "print(\"Nilai Energi Potensial adalah\", EnergiPotensial, \"Joule\")\n",
    "print(\"Nilai Percepatan Gravitasi adalah\", PercepatanGravitasi, \"m/s^2\")\n",
    "print(\"Nilai Ketinggian adalah\", Ketinggian, \"m\")\n",
    "print(\"Nilai Massa adalah\", Massa, \"kg\")"
   ]
  },
  {
   "cell_type": "code",
   "execution_count": null,
   "metadata": {},
   "outputs": [],
   "source": [
    "#B\n",
    "MassaJenis = float(input(\"Masukkan Nilai Massa Jenis = \"))\n",
    "Gravitasi = float(input(\"Masukkan Nilai Gravitasi = \"))\n",
    "Tinggi = float(input(\"Masukkan Nilai Tinggi = \"))\n",
    "Panjang = float(input(\"Masukkan Nilai Panjang = \"))\n",
    "Lebar = float(input(\"Masukkan Nilai Lebar = \"))\n",
    "\n",
    "Volume = Panjang*Lebar*Tinggi\n",
    "GayaApung = MassaJenis*Gravitasi*Volume\n",
    "\n",
    "print(\"Nilai Massa Jenis adalah\", MassaJenis, \"kg/m^3\")\n",
    "print(\"Nilai Gravitasi adalah\", Gravitasi, \"kg/m^3\")\n",
    "print(\"Nilai Volume adalah\", Volume, \"m^3\")\n",
    "print(\"Nilai Gaya Apung adalah\", GayaApung, \"N/m^2\")"
   ]
  },
  {
   "cell_type": "code",
   "execution_count": null,
   "metadata": {},
   "outputs": [],
   "source": [
    "#C\n",
    "SisiSegi5 = float(input(\"Masukan Sisi Segi Lima=\\t\"))\n",
    "LuasSegi5 = float((5*SisiSegi5**2)//2.90617)\n",
    "\n",
    "print(f\"sisi dari segi lima sama sisi adalah\", SisiSegi5,\"m\")\n",
    "print(f\"luas dari segi lima sama sisi adalah\", LuasSegi5,\"m^2\")"
   ]
  },
  {
   "attachments": {},
   "cell_type": "markdown",
   "metadata": {},
   "source": [
    "## 2."
   ]
  },
  {
   "attachments": {},
   "cell_type": "markdown",
   "metadata": {},
   "source": [
    "Taman bermain ANCOL memiliki berbagai wahana, salah satunya adalah bianglala. Harga tiket yang dijual berbeda tergantung dengan kategori nya. Harga tiket bagi orang dewasa atau yang berumur lebih dari 17 tahun adalah Rp 110.000 , harga tiket untuk anak-anak usia 6-16 tahun adalah Rp. 75.000 , sedangkan untuk usia dibawahnya tidak dikenakan biaya. Pada wahana bianglala sedang ada \"Promo RAMADHAN\" sebesar 20% bagi pembelian tiket lebih dari 2 pcs.\n",
    "\n",
    "Keluarga Anya Forger ingin menaiki wahana bianglala tersebut, Anya (usia 18 tahun) pergi bersama ayah dan ibunya beserta dua adiknya, Harry (usia 8 tahun) dan Taylor (usia 4 tahun). \n",
    "\n",
    "> Buatlah program sederhana untuk menghitung harga total dari pembelian tiket  oleh keluarga Anya dan harga tiket setelah mendapatkan diskon"
   ]
  },
  {
   "cell_type": "code",
   "execution_count": null,
   "metadata": {},
   "outputs": [],
   "source": [
    "Dewasa = int(input(\"Masukkan jumlah orang dewasa dengan umur di atas 17 tahun = \"))\n",
    "AnakAnak = int(input(\"Masukkan jumlah anak-anak dengan umur 6 sampai 16 tahun = \"))\n",
    "AnakKecil = int(input(\"Masukkan jumlah anak dengan umur di bawah 6 tahun = \"))\n",
    "\n",
    "HargaTiketUsiaLebihDari17 = 110000\n",
    "HargaTiketUsia6Sampai16 = 75000\n",
    "HargaTiketUsiaKurangDari6 = 0\n",
    "\n",
    "TotalHarga = (HargaTiketUsiaLebihDari17*Dewasa)+(HargaTiketUsia6Sampai16*AnakAnak)+(HargaTiketUsiaKurangDari6*AnakKecil)\n",
    "JumlahTiket = Dewasa+AnakAnak+AnakKecil\n",
    "\n",
    "if JumlahTiket>2:\n",
    "    print(\"Selamat anda mendapatkan promo RAMADHAN sebesar 20% bagi pembelian tiket lebih dari 2 pcs.\")\n",
    "    TotalHargaSetelahDiskon = TotalHarga * 80/100\n",
    "\n",
    "print(\"Jumlah tiket dewasa = \", Dewasa)\n",
    "print(\"Jumlah tiket anak-anak = \", AnakAnak)\n",
    "print(\"Jumlah tiket anak kecil = \", AnakKecil)\n",
    "print(\"Total harga sebelum diskon = \", TotalHarga)\n",
    "print(\"Total harga setelah diskon = \",TotalHargaSetelahDiskon)"
   ]
  },
  {
   "attachments": {},
   "cell_type": "markdown",
   "metadata": {},
   "source": [
    "## 3. "
   ]
  },
  {
   "attachments": {},
   "cell_type": "markdown",
   "metadata": {},
   "source": [
    "diberikan list aslab sebagai berikut:\n",
    "```python\n",
    "list_aslab = [\n",
    "    {\"nama\": \"Berlian Safri Prakoso\", \"nim\": \"I0320017\", \"kontak\": \"0858XXXXXXXX\"},\n",
    "    {\"nama\": \"Halidya Siti Hanifah\", \"nim\": \"I0320044\", \"kontak\": \"0878XXXXXXXX\"},\n",
    "    {\"nama\": \"Nurki Putra Mahardika\", \"nim\": \"I0320076\", \"kontak\": \"0877XXXXXXXX\"},\n",
    "    {\"nama\": \"Aji Manarul Aziz\", \"nim\": \"I0320119\", \"kontak\": \"0812XXXXXXXX\"},\n",
    "    {\"nama\": \"Alica Ayu Fitriani\", \"nim\": \"I0320121\", \"kontak\": \"0896XXXXXXXX\"},\n",
    "    {\"nama\": \"Dendy Halim Kusuma\", \"nim\": \"I0320125\", \"kontak\": \"0822XXXXXXXX\"}\n",
    "]\n",
    "```\n",
    "* **A** Tuliskan kode untuk mengakses informasi tentang \"nama\" dari semua aslab mulai dari index 1 sampai 5\n",
    "* **B** Tambahkan informasi berikut pada data aslab dan tampilkan hasilnya:\n",
    "```python\n",
    "    surel = [\"berlian@student.uns.ac.id\",\n",
    "          \"halidya@student.uns.ac.id\",\n",
    "          \"nurki@student.uns.ac.id\",\n",
    "          \"manarul@student.uns.ac.id\",\n",
    "          \"alica@student.uns.ac.id\",\n",
    "          \"dendy@student.uns.ac.id\"]\n",
    "```\n",
    "* **C** Hapus nilai pada kunci \"kontak\" pada list aslab dan tampilkan hasilnya\n",
    "> *note: kalian hanya boleh menggunakan key-value pair yang disebutkan di dalam teks, tanpa menggunakan informasi tambahan yang diambil pada list yang ada*"
   ]
  },
  {
   "cell_type": "code",
   "execution_count": null,
   "metadata": {},
   "outputs": [],
   "source": [
    "#A\n",
    "\n",
    "list_aslab = [\n",
    "    {\"nama\": \"Berlian Safri Prakoso\", \"nim\": \"I0320017\", \"kontak\": \"0858XXXXXXXX\"},\n",
    "    {\"nama\": \"Halidya Siti Hanifah\", \"nim\": \"I0320044\", \"kontak\": \"0878XXXXXXXX\"},\n",
    "    {\"nama\": \"Nurki Putra Mahardika\", \"nim\": \"I0320076\", \"kontak\": \"0877XXXXXXXX\"},\n",
    "    {\"nama\": \"Aji Manarul Aziz\", \"nim\": \"I0320119\", \"kontak\": \"0812XXXXXXXX\"},\n",
    "    {\"nama\": \"Alica Ayu Fitriani\", \"nim\": \"I0320121\", \"kontak\": \"0896XXXXXXXX\"},\n",
    "    {\"nama\": \"Dendy Halim Kusuma\", \"nim\": \"I0320125\", \"kontak\": \"0822XXXXXXXX\"}\n",
    "]\n",
    "\n",
    "for i in range(1, len(list_aslab)):\n",
    "    print(list_aslab[i][\"nama\"])"
   ]
  },
  {
   "cell_type": "code",
   "execution_count": null,
   "metadata": {},
   "outputs": [],
   "source": [
    "#B\n",
    "\n",
    "list_aslab = [\n",
    "    {\"nama\": \"Berlian Safri Prakoso\", \"nim\": \"I0320017\", \"kontak\": \"0858XXXXXXXX\"},\n",
    "    {\"nama\": \"Halidya Siti Hanifah\", \"nim\": \"I0320044\", \"kontak\": \"0878XXXXXXXX\"},\n",
    "    {\"nama\": \"Nurki Putra Mahardika\", \"nim\": \"I0320076\", \"kontak\": \"0877XXXXXXXX\"},\n",
    "    {\"nama\": \"Aji Manarul Aziz\", \"nim\": \"I0320119\", \"kontak\": \"0812XXXXXXXX\"},\n",
    "    {\"nama\": \"Alica Ayu Fitriani\", \"nim\": \"I0320121\", \"kontak\": \"0896XXXXXXXX\"},\n",
    "    {\"nama\": \"Dendy Halim Kusuma\", \"nim\": \"I0320125\", \"kontak\": \"0822XXXXXXXX\"}\n",
    "]\n",
    "\n",
    "surel = [\"berlian@student.uns.ac.id\",\n",
    "          \"halidya@student.uns.ac.id\",\n",
    "          \"nurki@student.uns.ac.id\",\n",
    "          \"manarul@student.uns.ac.id\",\n",
    "          \"alica@student.uns.ac.id\",\n",
    "          \"dendy@student.uns.ac.id\"]\n",
    "\n",
    "for i in range(0, len(list_aslab)):\n",
    "    list_aslab[i][\"surel\"] = surel[i]\n",
    "\n",
    "print(list_aslab)"
   ]
  },
  {
   "cell_type": "code",
   "execution_count": null,
   "metadata": {},
   "outputs": [],
   "source": [
    "#C\n",
    "\n",
    "for i in range(0, len(list_aslab)):\n",
    "    del list_aslab[i][\"kontak\"]\n",
    "\n",
    "print(list_aslab)"
   ]
  }
 ],
 "metadata": {
  "kernelspec": {
   "display_name": "Python 3",
   "language": "python",
   "name": "python3"
  },
  "language_info": {
   "name": "python",
   "version": "3.9.0 (tags/v3.9.0:9cf6752, Oct  5 2020, 15:34:40) [MSC v.1927 64 bit (AMD64)]"
  },
  "orig_nbformat": 4,
  "vscode": {
   "interpreter": {
    "hash": "5addf786bcd861d1ce5006f23111f8cbb206731e5b61b0a5632ba9e0252558a8"
   }
  }
 },
 "nbformat": 4,
 "nbformat_minor": 2
}
